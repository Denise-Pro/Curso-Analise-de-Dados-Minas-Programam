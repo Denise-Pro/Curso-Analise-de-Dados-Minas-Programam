{
  "nbformat": 4,
  "nbformat_minor": 0,
  "metadata": {
    "colab": {
      "name": "Topico2.ipynb",
      "provenance": [],
      "collapsed_sections": [],
      "authorship_tag": "ABX9TyPRm/yUhsnuEFg+8s1DUeM/",
      "include_colab_link": true
    },
    "kernelspec": {
      "name": "python3",
      "display_name": "Python 3"
    },
    "language_info": {
      "name": "python"
    }
  },
  "cells": [
    {
      "cell_type": "markdown",
      "metadata": {
        "id": "view-in-github",
        "colab_type": "text"
      },
      "source": [
        "<a href=\"https://colab.research.google.com/github/Denise-Pro/Curso-Analise-de-Dados-Minas-Programam/blob/main/Topico2_Analisando_Dados_FlorestaAmazonica_Com_Pandas.ipynb\" target=\"_parent\"><img src=\"https://colab.research.google.com/assets/colab-badge.svg\" alt=\"Open In Colab\"/></a>"
      ]
    },
    {
      "cell_type": "code",
      "metadata": {
        "id": "2agE0Q57jiiC"
      },
      "source": [
        "!mkdir -p \"/content/drive/MyDrive/MinasProgramam/CursoAnalisedeDados/Datasets/\" "
      ],
      "execution_count": 6,
      "outputs": []
    },
    {
      "cell_type": "markdown",
      "metadata": {
        "id": "V_aFGk2Ibel1"
      },
      "source": [
        "# Tópico 2 Conteúdo Programático do curso de Introdução a Análise de Dados Minas Programam"
      ]
    },
    {
      "cell_type": "markdown",
      "metadata": {
        "id": "npk8lIdCTKON"
      },
      "source": [
        "Introdução a Comandos da Biblioteca Pandas e Início da Análise\n",
        "\n",
        "Link documentação: https://pandas.pydata.org/docs/reference/frame.html"
      ]
    },
    {
      "cell_type": "markdown",
      "metadata": {
        "id": "fWcMG73PeQwg"
      },
      "source": [
        "Pandas é uma biblioteca do Python ( pacote de código aberto que contém inúmeras ferramentas dentro) muito utilizada para manipular e analizar dados.\n"
      ]
    },
    {
      "cell_type": "markdown",
      "metadata": {
        "id": "Hsj3JJLMgQj1"
      },
      "source": [
        "Para que possamos utilizar o pacote Pandas basta que façamos a importação do mesmo com o comando import e 'renomeamos' esse pacote para pd por fins de conveção "
      ]
    },
    {
      "cell_type": "code",
      "metadata": {
        "id": "MrehDt-_ifoG"
      },
      "source": [
        "import pandas as pd "
      ],
      "execution_count": 2,
      "outputs": []
    },
    {
      "cell_type": "markdown",
      "metadata": {
        "id": "1nveJS6zfjch"
      },
      "source": [
        "Talvez seja necessária uma instalaçãozinha antes ...  se o caomando acima não funcionar  ...\n",
        "\n",
        "Instalando o pacote Pandas:\n"
      ]
    },
    {
      "cell_type": "code",
      "metadata": {
        "id": "hdkQNKkef9ca"
      },
      "source": [
        "!pip install pandas # somente execute caso a importação acima der algum erro"
      ],
      "execution_count": null,
      "outputs": []
    },
    {
      "cell_type": "markdown",
      "metadata": {
        "id": "PAr4Z45Fhgjx"
      },
      "source": [
        "Importação dos Dados a serem Analisados e Cração de Dataframes"
      ]
    },
    {
      "cell_type": "markdown",
      "metadata": {
        "id": "-Tpyc2BZhpN6"
      },
      "source": [
        "Pandas Manipula dois tipos de estruturas de Dados:\n",
        "\n",
        "* a estrutura unidimensional que so admite uma coluna e n linhas a qual chamamos de Series. Uma lista se assemelha a essa estrutura;\n",
        "\n",
        "* a estrutura Bidimensional (mais utilizada) que admite n numero de linhas e n numero de colunas a qual chamamos de DatraFrames. planilhas de excel ou tabelas SQl são estruturas semelhantes.\n",
        "\n",
        "Em um Dataframe as colunas podem assumir vários formatatos de dados diferentes e entre si inclusive.\n",
        "\n",
        "A criação de um Dataframe pode ser realizada a partir de vários tipos de outras estruturas de dados como json, dicionário, planilha excel, arquivo csv, txt etc.\n",
        "\n",
        "Vejamos a seguir como criar um Datafram a partir de um arquivo com a extensão .csv"
      ]
    },
    {
      "cell_type": "code",
      "metadata": {
        "id": "kWJ-DLajhP4c"
      },
      "source": [
        "df_areaDesmatada = pd.read_csv('/content/drive/MyDrive/MinasProgramam/CursoAnalisedeDados/Datasets/def_area_2004_2019.csv', encoding='LATIN1')"
      ],
      "execution_count": 7,
      "outputs": []
    },
    {
      "cell_type": "markdown",
      "metadata": {
        "id": "DkKe34i3jNVC"
      },
      "source": [
        "Alguns dos Comandos de Visualização de um Dataframe:\n",
        "\n",
        " * print() -> comando mais básico de visualização em qualquer linguagem de programação\n",
        " * display() - > Cumpre a mesma função do print, porém apresenta os dados de forma mais estruturada parecida com uma tabela \n",
        " * head() -> com ele é possível limitar o número de linhas a serem visualizadas por padrão ele exibirá as primeiras 5 linhas"
      ]
    },
    {
      "cell_type": "code",
      "metadata": {
        "colab": {
          "base_uri": "https://localhost:8080/",
          "height": 112
        },
        "id": "N106Ct6J778P",
        "outputId": "e06149c5-0598-4b99-f323-d4c29936fbcd"
      },
      "source": [
        "df_areaDesmatada.head(2)"
      ],
      "execution_count": 12,
      "outputs": [
        {
          "output_type": "execute_result",
          "data": {
            "text/html": [
              "<div>\n",
              "<style scoped>\n",
              "    .dataframe tbody tr th:only-of-type {\n",
              "        vertical-align: middle;\n",
              "    }\n",
              "\n",
              "    .dataframe tbody tr th {\n",
              "        vertical-align: top;\n",
              "    }\n",
              "\n",
              "    .dataframe thead th {\n",
              "        text-align: right;\n",
              "    }\n",
              "</style>\n",
              "<table border=\"1\" class=\"dataframe\">\n",
              "  <thead>\n",
              "    <tr style=\"text-align: right;\">\n",
              "      <th></th>\n",
              "      <th>ï»¿Ano/Estados</th>\n",
              "      <th>AC</th>\n",
              "      <th>AM</th>\n",
              "      <th>AP</th>\n",
              "      <th>MA</th>\n",
              "      <th>MT</th>\n",
              "      <th>PA</th>\n",
              "      <th>RO</th>\n",
              "      <th>RR</th>\n",
              "      <th>TO</th>\n",
              "      <th>AMZ LEGAL</th>\n",
              "    </tr>\n",
              "  </thead>\n",
              "  <tbody>\n",
              "    <tr>\n",
              "      <th>0</th>\n",
              "      <td>2004</td>\n",
              "      <td>728</td>\n",
              "      <td>1232</td>\n",
              "      <td>46</td>\n",
              "      <td>755</td>\n",
              "      <td>11814</td>\n",
              "      <td>8870</td>\n",
              "      <td>3858</td>\n",
              "      <td>311</td>\n",
              "      <td>158</td>\n",
              "      <td>27772</td>\n",
              "    </tr>\n",
              "    <tr>\n",
              "      <th>1</th>\n",
              "      <td>2005</td>\n",
              "      <td>592</td>\n",
              "      <td>775</td>\n",
              "      <td>33</td>\n",
              "      <td>922</td>\n",
              "      <td>7145</td>\n",
              "      <td>5899</td>\n",
              "      <td>3244</td>\n",
              "      <td>133</td>\n",
              "      <td>271</td>\n",
              "      <td>19014</td>\n",
              "    </tr>\n",
              "  </tbody>\n",
              "</table>\n",
              "</div>"
            ],
            "text/plain": [
              "   ï»¿Ano/Estados   AC    AM  AP   MA     MT    PA    RO   RR   TO  AMZ LEGAL\n",
              "0            2004  728  1232  46  755  11814  8870  3858  311  158      27772\n",
              "1            2005  592   775  33  922   7145  5899  3244  133  271      19014"
            ]
          },
          "metadata": {},
          "execution_count": 12
        }
      ]
    },
    {
      "cell_type": "code",
      "metadata": {
        "id": "VYzlmh7QhPqY"
      },
      "source": [
        "df_areaDesmatada.head()"
      ],
      "execution_count": null,
      "outputs": []
    },
    {
      "cell_type": "markdown",
      "metadata": {
        "id": "WnUVNXGQpgng"
      },
      "source": [
        "Renomeando Campos de um DataFrame\n",
        "\n",
        "Sintaxe: df.rename(columns={\"A\": \"a\"}) \n",
        "Passamos na forma de um dicionário, sendo o primeiro parâmetro ou a chave (aquele que queremos renomear) o que está antes do ':' e o valor ou segundo parâmetro o novo nome do campo.\n"
      ]
    },
    {
      "cell_type": "code",
      "metadata": {
        "id": "Tx4rF8N-hPa2"
      },
      "source": [
        "display(df_areaDesmatada)\n",
        "# print(df_areaDesmatada)\n",
        "\n"
      ],
      "execution_count": null,
      "outputs": []
    },
    {
      "cell_type": "code",
      "metadata": {
        "id": "A8JKYs7NtHc-",
        "colab": {
          "base_uri": "https://localhost:8080/",
          "height": 206
        },
        "outputId": "136da08e-5313-4687-eaf9-7ada5b6573ab"
      },
      "source": [
        "df_areaDesmatada.rename({'ï»¿Ano/Estados' : 'Anos', \"AMZ LEGAL\" : \"Area Total\"})\n",
        "df_areaDesmatada.head()"
      ],
      "execution_count": 13,
      "outputs": [
        {
          "output_type": "execute_result",
          "data": {
            "text/html": [
              "<div>\n",
              "<style scoped>\n",
              "    .dataframe tbody tr th:only-of-type {\n",
              "        vertical-align: middle;\n",
              "    }\n",
              "\n",
              "    .dataframe tbody tr th {\n",
              "        vertical-align: top;\n",
              "    }\n",
              "\n",
              "    .dataframe thead th {\n",
              "        text-align: right;\n",
              "    }\n",
              "</style>\n",
              "<table border=\"1\" class=\"dataframe\">\n",
              "  <thead>\n",
              "    <tr style=\"text-align: right;\">\n",
              "      <th></th>\n",
              "      <th>ï»¿Ano/Estados</th>\n",
              "      <th>AC</th>\n",
              "      <th>AM</th>\n",
              "      <th>AP</th>\n",
              "      <th>MA</th>\n",
              "      <th>MT</th>\n",
              "      <th>PA</th>\n",
              "      <th>RO</th>\n",
              "      <th>RR</th>\n",
              "      <th>TO</th>\n",
              "      <th>AMZ LEGAL</th>\n",
              "    </tr>\n",
              "  </thead>\n",
              "  <tbody>\n",
              "    <tr>\n",
              "      <th>0</th>\n",
              "      <td>2004</td>\n",
              "      <td>728</td>\n",
              "      <td>1232</td>\n",
              "      <td>46</td>\n",
              "      <td>755</td>\n",
              "      <td>11814</td>\n",
              "      <td>8870</td>\n",
              "      <td>3858</td>\n",
              "      <td>311</td>\n",
              "      <td>158</td>\n",
              "      <td>27772</td>\n",
              "    </tr>\n",
              "    <tr>\n",
              "      <th>1</th>\n",
              "      <td>2005</td>\n",
              "      <td>592</td>\n",
              "      <td>775</td>\n",
              "      <td>33</td>\n",
              "      <td>922</td>\n",
              "      <td>7145</td>\n",
              "      <td>5899</td>\n",
              "      <td>3244</td>\n",
              "      <td>133</td>\n",
              "      <td>271</td>\n",
              "      <td>19014</td>\n",
              "    </tr>\n",
              "    <tr>\n",
              "      <th>2</th>\n",
              "      <td>2006</td>\n",
              "      <td>398</td>\n",
              "      <td>788</td>\n",
              "      <td>30</td>\n",
              "      <td>674</td>\n",
              "      <td>4333</td>\n",
              "      <td>5659</td>\n",
              "      <td>2049</td>\n",
              "      <td>231</td>\n",
              "      <td>124</td>\n",
              "      <td>14286</td>\n",
              "    </tr>\n",
              "    <tr>\n",
              "      <th>3</th>\n",
              "      <td>2007</td>\n",
              "      <td>184</td>\n",
              "      <td>610</td>\n",
              "      <td>39</td>\n",
              "      <td>631</td>\n",
              "      <td>2678</td>\n",
              "      <td>5526</td>\n",
              "      <td>1611</td>\n",
              "      <td>309</td>\n",
              "      <td>63</td>\n",
              "      <td>11651</td>\n",
              "    </tr>\n",
              "    <tr>\n",
              "      <th>4</th>\n",
              "      <td>2008</td>\n",
              "      <td>254</td>\n",
              "      <td>604</td>\n",
              "      <td>100</td>\n",
              "      <td>1271</td>\n",
              "      <td>3258</td>\n",
              "      <td>5607</td>\n",
              "      <td>1136</td>\n",
              "      <td>574</td>\n",
              "      <td>107</td>\n",
              "      <td>12911</td>\n",
              "    </tr>\n",
              "  </tbody>\n",
              "</table>\n",
              "</div>"
            ],
            "text/plain": [
              "   ï»¿Ano/Estados   AC    AM   AP    MA     MT    PA    RO   RR   TO  AMZ LEGAL\n",
              "0            2004  728  1232   46   755  11814  8870  3858  311  158      27772\n",
              "1            2005  592   775   33   922   7145  5899  3244  133  271      19014\n",
              "2            2006  398   788   30   674   4333  5659  2049  231  124      14286\n",
              "3            2007  184   610   39   631   2678  5526  1611  309   63      11651\n",
              "4            2008  254   604  100  1271   3258  5607  1136  574  107      12911"
            ]
          },
          "metadata": {},
          "execution_count": 13
        }
      ]
    },
    {
      "cell_type": "markdown",
      "metadata": {
        "id": "PsznM4ettfMK"
      },
      "source": [
        "Pergunta 1: Por que Vocês Acham que o método rename utilizado na célula acima não funcionou??"
      ]
    },
    {
      "cell_type": "code",
      "metadata": {
        "id": "4UoSsLjehO-T",
        "colab": {
          "base_uri": "https://localhost:8080/",
          "height": 112
        },
        "outputId": "4e7bd495-1029-4f82-9915-1cd5c642250b"
      },
      "source": [
        "df_areaDesmatada.rename({'ï»¿Ano/Estados':'Anos','AMZ LEGAL':'Area Total'}, \n",
        "    axis=1, \n",
        "    inplace=True)\n",
        "df_areaDesmatada.head(2)"
      ],
      "execution_count": 14,
      "outputs": [
        {
          "output_type": "execute_result",
          "data": {
            "text/html": [
              "<div>\n",
              "<style scoped>\n",
              "    .dataframe tbody tr th:only-of-type {\n",
              "        vertical-align: middle;\n",
              "    }\n",
              "\n",
              "    .dataframe tbody tr th {\n",
              "        vertical-align: top;\n",
              "    }\n",
              "\n",
              "    .dataframe thead th {\n",
              "        text-align: right;\n",
              "    }\n",
              "</style>\n",
              "<table border=\"1\" class=\"dataframe\">\n",
              "  <thead>\n",
              "    <tr style=\"text-align: right;\">\n",
              "      <th></th>\n",
              "      <th>Anos</th>\n",
              "      <th>AC</th>\n",
              "      <th>AM</th>\n",
              "      <th>AP</th>\n",
              "      <th>MA</th>\n",
              "      <th>MT</th>\n",
              "      <th>PA</th>\n",
              "      <th>RO</th>\n",
              "      <th>RR</th>\n",
              "      <th>TO</th>\n",
              "      <th>Area Total</th>\n",
              "    </tr>\n",
              "  </thead>\n",
              "  <tbody>\n",
              "    <tr>\n",
              "      <th>0</th>\n",
              "      <td>2004</td>\n",
              "      <td>728</td>\n",
              "      <td>1232</td>\n",
              "      <td>46</td>\n",
              "      <td>755</td>\n",
              "      <td>11814</td>\n",
              "      <td>8870</td>\n",
              "      <td>3858</td>\n",
              "      <td>311</td>\n",
              "      <td>158</td>\n",
              "      <td>27772</td>\n",
              "    </tr>\n",
              "    <tr>\n",
              "      <th>1</th>\n",
              "      <td>2005</td>\n",
              "      <td>592</td>\n",
              "      <td>775</td>\n",
              "      <td>33</td>\n",
              "      <td>922</td>\n",
              "      <td>7145</td>\n",
              "      <td>5899</td>\n",
              "      <td>3244</td>\n",
              "      <td>133</td>\n",
              "      <td>271</td>\n",
              "      <td>19014</td>\n",
              "    </tr>\n",
              "  </tbody>\n",
              "</table>\n",
              "</div>"
            ],
            "text/plain": [
              "   Anos   AC    AM  AP   MA     MT    PA    RO   RR   TO  Area Total\n",
              "0  2004  728  1232  46  755  11814  8870  3858  311  158       27772\n",
              "1  2005  592   775  33  922   7145  5899  3244  133  271       19014"
            ]
          },
          "metadata": {},
          "execution_count": 14
        }
      ]
    },
    {
      "cell_type": "markdown",
      "metadata": {
        "id": "T86r1Wgn0njx"
      },
      "source": [
        "Nós precisamos fazer com que as alterações fiquem salvas, em um outro paradigma de programação nós precisaríamos fazer uma atribuição a uma variável, e aqui nós utilizamos o parâmetro Booleano **inplace=True** e assim garantimos que a alteração feita no conjunto de dados tornece definitiva .. isso se aplica em outros médodos como drop duplicates etc \n",
        "\n",
        "Para que a alteração se dê de forma mais efetiva nós também especificamos o eixo o qual queremos modificar , esse é o trabalho que o parâmetro setado como axis = 1 está fazendo. Nesse caso **axis = 1** indica alteração na coluna de um df e axis = 0 nas linhas do mesmo."
      ]
    },
    {
      "cell_type": "markdown",
      "metadata": {
        "id": "7gSUB5bp3OVj"
      },
      "source": [
        "**Entendimento Geral da Base de Dados**\n",
        "\n",
        "Qual a àrea total desmatada desde 2004?\n",
        "\n",
        "Qual foi o ano em que se observou a maior área total deamatada da Floresta Amazônica?\n",
        "\n",
        "Quanto houve de desmatamento entre os anos 2009 e 2019 no Estado que compreende a maior área devastada?\n"
      ]
    },
    {
      "cell_type": "markdown",
      "metadata": {
        "id": "qOEeWP_eEH3f"
      },
      "source": [
        "O metodo sum() quando utilzado sem passar nenhum parâmetro retornará o valor somado de todas as colunas numéricas do Datraframe\n",
        "\n",
        "Caso queiramos somar uma coluna ou um conjunto específico de colunas devemos passá- las como parâmetro da seguinte forma:\n",
        "\n",
        "df['coluna1', 'coluna2'].sum()\n",
        "\n",
        "Lembrando que é importante setar o eixo, sendo axis=0 se quiser somar linhas e axis=1 para soma de colunas"
      ]
    },
    {
      "cell_type": "code",
      "metadata": {
        "colab": {
          "base_uri": "https://localhost:8080/"
        },
        "id": "iflE-ZpYy0PM",
        "outputId": "da2c431d-c4d2-475a-d6be-a42193f81efe"
      },
      "source": [
        "# àrea total desmatada desde 2004\n",
        "areaDesmatadaTotal =  df_areaDesmatada['Area Total'].sum()\n",
        "print(areaDesmatadaTotal)"
      ],
      "execution_count": null,
      "outputs": [
        {
          "output_type": "stream",
          "name": "stdout",
          "text": [
            "160335\n"
          ]
        }
      ]
    },
    {
      "cell_type": "markdown",
      "metadata": {
        "id": "XNjDcAC6FCuT"
      },
      "source": [
        "Utilizamos o **Método Drop** quando queremos excluir linhas ou colunas do nosso conjunto de dados.\n",
        "\n",
        "sintaxe:\n",
        "    df.drop(['coluna1', 'coluna2'])\n",
        "\n",
        "  É bem importante ressaltar que o que dirá se uma linha ou uma coluna será excluída é o eixo que foi passado como parâmetro. Por padrão o drop exclui linhas, ou seja, o esixo setado como padrão é axis=0 caso nenhum parâmetro de eixo seja passado.\n",
        "\n",
        " Em casos onde queiramos uma exclusão definitiva, não podemos esquecer de passar o inplace=TRUE"
      ]
    },
    {
      "cell_type": "code",
      "metadata": {
        "id": "IxhHML8V7cMB"
      },
      "source": [
        "# Descobrindo o Estado que compreende a maior área devastada\n",
        "df_estados = df_areaDesmatada.drop(['Anos', 'Area Total'], axis=1)\n",
        "\n",
        "df_estados.sum().sort_values(axis=0, ascending=False)\n"
      ],
      "execution_count": null,
      "outputs": []
    },
    {
      "cell_type": "markdown",
      "metadata": {
        "id": "jSob1wZqGR6B"
      },
      "source": [
        "Utilizamos o Metodo **sort_values** quando queremos ordenar uma coluna de um dataframe\n",
        "\n",
        "Sintaxe: df.sort_values(by=['col1', 'col2'])\n",
        "\n",
        "Por padrão ele Ordena linhas e em ordem crescente. Caso queiramos alterar a ordem basta passar false no parâmetro ascending. \n",
        "\n"
      ]
    },
    {
      "cell_type": "code",
      "metadata": {
        "id": "goVp06AM9rHD"
      },
      "source": [
        "# vimos que o estado onde há mais desmatamento é o PA , agora vamos atribuír -lo a uma variável:\n",
        "\n",
        "df_estadosOrdenados = df_estados.sum().sort_values(axis=0, ascending=False)\n",
        "\n",
        "# type(df_estadosOrdenados) # com esse comando podemos descobrir o tipo de variável com a qual estamos trabalhando\n",
        "\n",
        "# df_estadosOrdenados.head(1)\n",
        "EstadoMaisDesmatado = df_estadosOrdenados[0]\n",
        "\n",
        "# as duas útimas linhas acima servem para atribuir a primeira linha do dataframe df_estadosOrdenados à variável EstadoMaisDesmatado\n",
        "print(EstadoMaisDesmatado)"
      ],
      "execution_count": null,
      "outputs": []
    },
    {
      "cell_type": "code",
      "metadata": {
        "id": "zc_y2PqrD4qx"
      },
      "source": [
        "# Antes de Filtrar os anos analiso pra entender com que tipo de dados estou trabalhando\n",
        "df_areaDesmatada.info()"
      ],
      "execution_count": null,
      "outputs": []
    },
    {
      "cell_type": "markdown",
      "metadata": {
        "id": "SmqM14krPI-t"
      },
      "source": [
        "Loc é o metodo de busca mais utilizado da Biblioteca Pandas. Com ele podemos obter linhas e colunas que correspondam a alguma condição que passarmos como parâmetro na busca em um conjunto de dados."
      ]
    },
    {
      "cell_type": "markdown",
      "metadata": {
        "id": "Q4WDyWg0PnTo"
      },
      "source": [
        "Há pelo menos 3 jeitos de obter dados entre os anos de 2009 e 2019, vejamos a seguir:"
      ]
    },
    {
      "cell_type": "code",
      "metadata": {
        "id": "n8HsQraVC7rx"
      },
      "source": [
        "# df_areaDesmatada.loc[df_areaDesmatada['Anos'] >= 2009]\n",
        "# df_areaDesmatada.loc[5:]\n",
        "df_areaDesmatada.loc[((df_areaDesmatada['Anos'] >= 2009) & (df_areaDesmatada['Anos'] <= 2019))]"
      ],
      "execution_count": null,
      "outputs": []
    },
    {
      "cell_type": "markdown",
      "metadata": {
        "id": "cxkApBAWP6v4"
      },
      "source": [
        "Agora que sabemos como pegar o Estado com Maior àrea desmatada e como filtrar o período entre 2009 e 2019, vamos responder a pergunta:\n",
        "\n",
        "Quanto houve de desmatamento entre os anos 2009 e 2019 no Estado que compreende a maior área devastada?"
      ]
    },
    {
      "cell_type": "code",
      "metadata": {
        "id": "vU1dZb9JP6L8"
      },
      "source": [
        "df_areaDesmatada.loc[df_areaDesmatada['Anos'] >= 2009].sum().sort_values()"
      ],
      "execution_count": null,
      "outputs": []
    },
    {
      "cell_type": "code",
      "metadata": {
        "id": "jjjytuUoLbVG"
      },
      "source": [
        "DesmatamentoPaentre2009e2019 = df_areaDesmatada.loc[df_areaDesmatada['Anos'] >= 2009].sum().sort_values(axis=0, ascending=False)[1]\n",
        "print(\"o Estado com maior área devastada é o PA e {} Km2 foram desmatados entre o período de 2009 e 2019 \".format(DesmatamentoPaentre2009e2019))"
      ],
      "execution_count": null,
      "outputs": []
    },
    {
      "cell_type": "markdown",
      "metadata": {
        "id": "uXQGl0bqbA_9"
      },
      "source": [
        "**Desafio 1**:\n",
        "Qual foi o ano em que se observou a maior área total desmatada da Floresta Amazônica?"
      ]
    }
  ]
}